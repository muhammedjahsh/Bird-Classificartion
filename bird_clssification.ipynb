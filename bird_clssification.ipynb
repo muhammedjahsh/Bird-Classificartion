{
 "cells": [
  {
   "cell_type": "code",
   "execution_count": 1,
   "metadata": {
    "id": "lSEFezmHx2HD"
   },
   "outputs": [],
   "source": [
    "import pandas as pd\n",
    "\n",
    "import os\n",
    "\n",
    "import matplotlib.pyplot as plt\n",
    "\n",
    "from PIL import Image\n",
    "\n",
    "from keras.preprocessing.image import ImageDataGenerator"
   ]
  },
  {
   "cell_type": "code",
   "execution_count": null,
   "metadata": {
    "id": "UB6wqcmYyQt7"
   },
   "outputs": [],
   "source": []
  },
  {
   "cell_type": "code",
   "execution_count": 2,
   "metadata": {
    "colab": {
     "base_uri": "https://localhost:8080/"
    },
    "id": "hquCGe7gySoN",
    "outputId": "cd5eb0a8-69d0-4404-9244-a2d7b833686c"
   },
   "outputs": [
    {
     "name": "stdout",
     "output_type": "stream",
     "text": [
      "Mounted at /content/drive\n"
     ]
    }
   ],
   "source": [
    "from google.colab import drive\n",
    "drive.mount('/content/drive')"
   ]
  },
  {
   "cell_type": "code",
   "execution_count": 7,
   "metadata": {
    "id": "CDdpBX3Zyt8t"
   },
   "outputs": [],
   "source": [
    "datagen=ImageDataGenerator(rotation_range=45,\n",
    "                           width_shift_range=0.2,\n",
    "                           height_shift_range=0.2,\n",
    "                           shear_range=0.2,\n",
    "                           zoom_range=0.2,\n",
    "                           fill_mode='nearest',\n",
    "                           horizontal_flip=True,\n",
    "                           samplewise_center=False)"
   ]
  },
  {
   "cell_type": "code",
   "execution_count": 10,
   "metadata": {
    "id": "ioIA8vvuzoLR"
   },
   "outputs": [],
   "source": [
    "for i in os.listdir('/content/drive/MyDrive/Colab Notebooks/image clss/input'):\n",
    "  folder_path='/content/drive/MyDrive/Colab Notebooks/image clss/input/'+i\n",
    "  for pic in os.listdir(folder_path):\n",
    "    pic_path=folder_path+'/'+pic\n",
    "    image=plt.imread(pic_path)\n",
    "    image=image.reshape(1,image.shape[0],image.shape[1],image.shape[2])\n",
    "\n",
    "    if pic[:3]==\"par\":\n",
    "      k=1\n",
    "      for batch in datagen.flow(image,batch_size=1,\n",
    "                                save_to_dir='/content/drive/MyDrive/Colab Notebooks/image clss/Augmentation',\n",
    "                                save_prefix=\"par\",\n",
    "                                save_format='jpg'):\n",
    "        if k>10:\n",
    "          break\n",
    "        k+=1\n",
    "\n",
    "    elif pic[:3]==\"eag\":\n",
    "      k=1\n",
    "      for batch in datagen.flow(image,batch_size=1,\n",
    "                                save_to_dir='/content/drive/MyDrive/Colab Notebooks/image clss/Augmentation',\n",
    "                                save_prefix=\"eag\",\n",
    "                                save_format='jpg'):\n",
    "        if k>10:\n",
    "          break\n",
    "        k+=1\n",
    "\n",
    "    else:\n",
    "      k=1\n",
    "      for batch in datagen.flow(image,batch_size=1,\n",
    "                                save_to_dir='/content/drive/MyDrive/Colab Notebooks/image clss/Augmentation',\n",
    "                                save_prefix=\"cro\",\n",
    "                                save_format='jpg'):\n",
    "        if k>10:\n",
    "          break\n",
    "        k+=1\n",
    "\n",
    "\n",
    "\n",
    "\n",
    "\n"
   ]
  },
  {
   "cell_type": "code",
   "execution_count": 11,
   "metadata": {
    "id": "zCUgMaIAmsVB"
   },
   "outputs": [],
   "source": [
    "labels_list=[]\n",
    "\n",
    "filenames_list=[]\n",
    "\n",
    "for img_name in os.listdir('/content/drive/MyDrive/Colab Notebooks/image clss/Augmentation'):\n",
    "  image=Image.open('/content/drive/MyDrive/Colab Notebooks/image clss/Augmentation/' + img_name)\n",
    "\n",
    "  resized=image.resize((500,400))\n",
    "\n",
    "  if img_name[:3]==\"par\":\n",
    "\n",
    "    filename='/content/drive/MyDrive/Colab Notebooks/image clss/resize/'+img_name\n",
    "    filenames_list.append(filename)\n",
    "    label=\"par\"\n",
    "    labels_list.append(label)\n",
    "    resized.save(filename)\n",
    "\n",
    "  elif img_name[:3]==\"eag\":\n",
    "    filename='/content/drive/MyDrive/Colab Notebooks/image clss/resize/'+img_name\n",
    "    filenames_list.append(filename)\n",
    "    label=\"eag\"\n",
    "    labels_list.append(label)\n",
    "    resized.save(filename)\n",
    "\n",
    "  elif img_name[:3]==\"cro\":\n",
    "    filename='/content/drive/MyDrive/Colab Notebooks/image clss/resize/'+img_name\n",
    "    filenames_list.append(filename)\n",
    "    label=\"cro\"\n",
    "    labels_list.append(label)\n",
    "    resized.save(filename)\n",
    "\n"
   ]
  },
  {
   "cell_type": "code",
   "execution_count": 13,
   "metadata": {
    "colab": {
     "base_uri": "https://localhost:8080/",
     "height": 424
    },
    "id": "r1J9RKNOyGe2",
    "outputId": "f4d70d58-f295-4792-a940-cebe1fad9469"
   },
   "outputs": [
    {
     "data": {
      "text/html": [
       "\n",
       "  <div id=\"df-829e4ce9-82b2-44c7-b880-dd1b8259ab06\">\n",
       "    <div class=\"colab-df-container\">\n",
       "      <div>\n",
       "<style scoped>\n",
       "    .dataframe tbody tr th:only-of-type {\n",
       "        vertical-align: middle;\n",
       "    }\n",
       "\n",
       "    .dataframe tbody tr th {\n",
       "        vertical-align: top;\n",
       "    }\n",
       "\n",
       "    .dataframe thead th {\n",
       "        text-align: right;\n",
       "    }\n",
       "</style>\n",
       "<table border=\"1\" class=\"dataframe\">\n",
       "  <thead>\n",
       "    <tr style=\"text-align: right;\">\n",
       "      <th></th>\n",
       "      <th>Filename</th>\n",
       "      <th>Labels</th>\n",
       "    </tr>\n",
       "  </thead>\n",
       "  <tbody>\n",
       "    <tr>\n",
       "      <th>0</th>\n",
       "      <td>/content/drive/MyDrive/Colab Notebooks/image c...</td>\n",
       "      <td>eag</td>\n",
       "    </tr>\n",
       "    <tr>\n",
       "      <th>1</th>\n",
       "      <td>/content/drive/MyDrive/Colab Notebooks/image c...</td>\n",
       "      <td>eag</td>\n",
       "    </tr>\n",
       "    <tr>\n",
       "      <th>2</th>\n",
       "      <td>/content/drive/MyDrive/Colab Notebooks/image c...</td>\n",
       "      <td>eag</td>\n",
       "    </tr>\n",
       "    <tr>\n",
       "      <th>3</th>\n",
       "      <td>/content/drive/MyDrive/Colab Notebooks/image c...</td>\n",
       "      <td>eag</td>\n",
       "    </tr>\n",
       "    <tr>\n",
       "      <th>4</th>\n",
       "      <td>/content/drive/MyDrive/Colab Notebooks/image c...</td>\n",
       "      <td>eag</td>\n",
       "    </tr>\n",
       "    <tr>\n",
       "      <th>...</th>\n",
       "      <td>...</td>\n",
       "      <td>...</td>\n",
       "    </tr>\n",
       "    <tr>\n",
       "      <th>322</th>\n",
       "      <td>/content/drive/MyDrive/Colab Notebooks/image c...</td>\n",
       "      <td>cro</td>\n",
       "    </tr>\n",
       "    <tr>\n",
       "      <th>323</th>\n",
       "      <td>/content/drive/MyDrive/Colab Notebooks/image c...</td>\n",
       "      <td>cro</td>\n",
       "    </tr>\n",
       "    <tr>\n",
       "      <th>324</th>\n",
       "      <td>/content/drive/MyDrive/Colab Notebooks/image c...</td>\n",
       "      <td>cro</td>\n",
       "    </tr>\n",
       "    <tr>\n",
       "      <th>325</th>\n",
       "      <td>/content/drive/MyDrive/Colab Notebooks/image c...</td>\n",
       "      <td>cro</td>\n",
       "    </tr>\n",
       "    <tr>\n",
       "      <th>326</th>\n",
       "      <td>/content/drive/MyDrive/Colab Notebooks/image c...</td>\n",
       "      <td>cro</td>\n",
       "    </tr>\n",
       "  </tbody>\n",
       "</table>\n",
       "<p>327 rows × 2 columns</p>\n",
       "</div>\n",
       "      <button class=\"colab-df-convert\" onclick=\"convertToInteractive('df-829e4ce9-82b2-44c7-b880-dd1b8259ab06')\"\n",
       "              title=\"Convert this dataframe to an interactive table.\"\n",
       "              style=\"display:none;\">\n",
       "        \n",
       "  <svg xmlns=\"http://www.w3.org/2000/svg\" height=\"24px\"viewBox=\"0 0 24 24\"\n",
       "       width=\"24px\">\n",
       "    <path d=\"M0 0h24v24H0V0z\" fill=\"none\"/>\n",
       "    <path d=\"M18.56 5.44l.94 2.06.94-2.06 2.06-.94-2.06-.94-.94-2.06-.94 2.06-2.06.94zm-11 1L8.5 8.5l.94-2.06 2.06-.94-2.06-.94L8.5 2.5l-.94 2.06-2.06.94zm10 10l.94 2.06.94-2.06 2.06-.94-2.06-.94-.94-2.06-.94 2.06-2.06.94z\"/><path d=\"M17.41 7.96l-1.37-1.37c-.4-.4-.92-.59-1.43-.59-.52 0-1.04.2-1.43.59L10.3 9.45l-7.72 7.72c-.78.78-.78 2.05 0 2.83L4 21.41c.39.39.9.59 1.41.59.51 0 1.02-.2 1.41-.59l7.78-7.78 2.81-2.81c.8-.78.8-2.07 0-2.86zM5.41 20L4 18.59l7.72-7.72 1.47 1.35L5.41 20z\"/>\n",
       "  </svg>\n",
       "      </button>\n",
       "      \n",
       "  <style>\n",
       "    .colab-df-container {\n",
       "      display:flex;\n",
       "      flex-wrap:wrap;\n",
       "      gap: 12px;\n",
       "    }\n",
       "\n",
       "    .colab-df-convert {\n",
       "      background-color: #E8F0FE;\n",
       "      border: none;\n",
       "      border-radius: 50%;\n",
       "      cursor: pointer;\n",
       "      display: none;\n",
       "      fill: #1967D2;\n",
       "      height: 32px;\n",
       "      padding: 0 0 0 0;\n",
       "      width: 32px;\n",
       "    }\n",
       "\n",
       "    .colab-df-convert:hover {\n",
       "      background-color: #E2EBFA;\n",
       "      box-shadow: 0px 1px 2px rgba(60, 64, 67, 0.3), 0px 1px 3px 1px rgba(60, 64, 67, 0.15);\n",
       "      fill: #174EA6;\n",
       "    }\n",
       "\n",
       "    [theme=dark] .colab-df-convert {\n",
       "      background-color: #3B4455;\n",
       "      fill: #D2E3FC;\n",
       "    }\n",
       "\n",
       "    [theme=dark] .colab-df-convert:hover {\n",
       "      background-color: #434B5C;\n",
       "      box-shadow: 0px 1px 3px 1px rgba(0, 0, 0, 0.15);\n",
       "      filter: drop-shadow(0px 1px 2px rgba(0, 0, 0, 0.3));\n",
       "      fill: #FFFFFF;\n",
       "    }\n",
       "  </style>\n",
       "\n",
       "      <script>\n",
       "        const buttonEl =\n",
       "          document.querySelector('#df-829e4ce9-82b2-44c7-b880-dd1b8259ab06 button.colab-df-convert');\n",
       "        buttonEl.style.display =\n",
       "          google.colab.kernel.accessAllowed ? 'block' : 'none';\n",
       "\n",
       "        async function convertToInteractive(key) {\n",
       "          const element = document.querySelector('#df-829e4ce9-82b2-44c7-b880-dd1b8259ab06');\n",
       "          const dataTable =\n",
       "            await google.colab.kernel.invokeFunction('convertToInteractive',\n",
       "                                                     [key], {});\n",
       "          if (!dataTable) return;\n",
       "\n",
       "          const docLinkHtml = 'Like what you see? Visit the ' +\n",
       "            '<a target=\"_blank\" href=https://colab.research.google.com/notebooks/data_table.ipynb>data table notebook</a>'\n",
       "            + ' to learn more about interactive tables.';\n",
       "          element.innerHTML = '';\n",
       "          dataTable['output_type'] = 'display_data';\n",
       "          await google.colab.output.renderOutput(dataTable, element);\n",
       "          const docLink = document.createElement('div');\n",
       "          docLink.innerHTML = docLinkHtml;\n",
       "          element.appendChild(docLink);\n",
       "        }\n",
       "      </script>\n",
       "    </div>\n",
       "  </div>\n",
       "  "
      ],
      "text/plain": [
       "                                              Filename Labels\n",
       "0    /content/drive/MyDrive/Colab Notebooks/image c...    eag\n",
       "1    /content/drive/MyDrive/Colab Notebooks/image c...    eag\n",
       "2    /content/drive/MyDrive/Colab Notebooks/image c...    eag\n",
       "3    /content/drive/MyDrive/Colab Notebooks/image c...    eag\n",
       "4    /content/drive/MyDrive/Colab Notebooks/image c...    eag\n",
       "..                                                 ...    ...\n",
       "322  /content/drive/MyDrive/Colab Notebooks/image c...    cro\n",
       "323  /content/drive/MyDrive/Colab Notebooks/image c...    cro\n",
       "324  /content/drive/MyDrive/Colab Notebooks/image c...    cro\n",
       "325  /content/drive/MyDrive/Colab Notebooks/image c...    cro\n",
       "326  /content/drive/MyDrive/Colab Notebooks/image c...    cro\n",
       "\n",
       "[327 rows x 2 columns]"
      ]
     },
     "execution_count": 13,
     "metadata": {},
     "output_type": "execute_result"
    }
   ],
   "source": [
    "labels=pd.DataFrame({\"Filename\":filenames_list,\"Labels\":labels_list})\n",
    "\n",
    "labels"
   ]
  },
  {
   "cell_type": "code",
   "execution_count": 14,
   "metadata": {
    "colab": {
     "base_uri": "https://localhost:8080/",
     "height": 35
    },
    "id": "DxVZTJ_oyFfG",
    "outputId": "b56af2a3-e550-4fd2-82c9-194e076cbfcd"
   },
   "outputs": [
    {
     "data": {
      "application/vnd.google.colaboratory.intrinsic+json": {
       "type": "string"
      },
      "text/plain": [
       "'/content/drive/MyDrive/Colab Notebooks/image clss/resize/eag_0_5336.jpg'"
      ]
     },
     "execution_count": 14,
     "metadata": {},
     "output_type": "execute_result"
    }
   ],
   "source": [
    "labels.Filename[10]"
   ]
  },
  {
   "cell_type": "code",
   "execution_count": 15,
   "metadata": {
    "colab": {
     "base_uri": "https://localhost:8080/",
     "height": 35
    },
    "id": "kQEgdy9Y0X1M",
    "outputId": "9f7951d2-6acb-430c-8072-c7c3d84473a1"
   },
   "outputs": [
    {
     "data": {
      "application/vnd.google.colaboratory.intrinsic+json": {
       "type": "string"
      },
      "text/plain": [
       "'eag'"
      ]
     },
     "execution_count": 15,
     "metadata": {},
     "output_type": "execute_result"
    }
   ],
   "source": [
    "labels.Labels[10]"
   ]
  },
  {
   "cell_type": "code",
   "execution_count": 16,
   "metadata": {
    "id": "JXKMC0wU0eDU"
   },
   "outputs": [],
   "source": [
    "labels.to_csv('/content/drive/MyDrive/Colab Notebooks/image clss/labels.csv',index=False)"
   ]
  },
  {
   "cell_type": "code",
   "execution_count": 17,
   "metadata": {
    "colab": {
     "base_uri": "https://localhost:8080/",
     "height": 424
    },
    "id": "uJyidNJm0yDf",
    "outputId": "75aad375-74b0-4518-99b5-422467bd3a04"
   },
   "outputs": [
    {
     "data": {
      "text/html": [
       "\n",
       "  <div id=\"df-e360a39d-5002-4b0b-af34-9df198493369\">\n",
       "    <div class=\"colab-df-container\">\n",
       "      <div>\n",
       "<style scoped>\n",
       "    .dataframe tbody tr th:only-of-type {\n",
       "        vertical-align: middle;\n",
       "    }\n",
       "\n",
       "    .dataframe tbody tr th {\n",
       "        vertical-align: top;\n",
       "    }\n",
       "\n",
       "    .dataframe thead th {\n",
       "        text-align: right;\n",
       "    }\n",
       "</style>\n",
       "<table border=\"1\" class=\"dataframe\">\n",
       "  <thead>\n",
       "    <tr style=\"text-align: right;\">\n",
       "      <th></th>\n",
       "      <th>Filename</th>\n",
       "      <th>Labels</th>\n",
       "    </tr>\n",
       "  </thead>\n",
       "  <tbody>\n",
       "    <tr>\n",
       "      <th>0</th>\n",
       "      <td>/content/drive/MyDrive/Colab Notebooks/image c...</td>\n",
       "      <td>eag</td>\n",
       "    </tr>\n",
       "    <tr>\n",
       "      <th>1</th>\n",
       "      <td>/content/drive/MyDrive/Colab Notebooks/image c...</td>\n",
       "      <td>eag</td>\n",
       "    </tr>\n",
       "    <tr>\n",
       "      <th>2</th>\n",
       "      <td>/content/drive/MyDrive/Colab Notebooks/image c...</td>\n",
       "      <td>eag</td>\n",
       "    </tr>\n",
       "    <tr>\n",
       "      <th>3</th>\n",
       "      <td>/content/drive/MyDrive/Colab Notebooks/image c...</td>\n",
       "      <td>eag</td>\n",
       "    </tr>\n",
       "    <tr>\n",
       "      <th>4</th>\n",
       "      <td>/content/drive/MyDrive/Colab Notebooks/image c...</td>\n",
       "      <td>eag</td>\n",
       "    </tr>\n",
       "    <tr>\n",
       "      <th>...</th>\n",
       "      <td>...</td>\n",
       "      <td>...</td>\n",
       "    </tr>\n",
       "    <tr>\n",
       "      <th>322</th>\n",
       "      <td>/content/drive/MyDrive/Colab Notebooks/image c...</td>\n",
       "      <td>cro</td>\n",
       "    </tr>\n",
       "    <tr>\n",
       "      <th>323</th>\n",
       "      <td>/content/drive/MyDrive/Colab Notebooks/image c...</td>\n",
       "      <td>cro</td>\n",
       "    </tr>\n",
       "    <tr>\n",
       "      <th>324</th>\n",
       "      <td>/content/drive/MyDrive/Colab Notebooks/image c...</td>\n",
       "      <td>cro</td>\n",
       "    </tr>\n",
       "    <tr>\n",
       "      <th>325</th>\n",
       "      <td>/content/drive/MyDrive/Colab Notebooks/image c...</td>\n",
       "      <td>cro</td>\n",
       "    </tr>\n",
       "    <tr>\n",
       "      <th>326</th>\n",
       "      <td>/content/drive/MyDrive/Colab Notebooks/image c...</td>\n",
       "      <td>cro</td>\n",
       "    </tr>\n",
       "  </tbody>\n",
       "</table>\n",
       "<p>327 rows × 2 columns</p>\n",
       "</div>\n",
       "      <button class=\"colab-df-convert\" onclick=\"convertToInteractive('df-e360a39d-5002-4b0b-af34-9df198493369')\"\n",
       "              title=\"Convert this dataframe to an interactive table.\"\n",
       "              style=\"display:none;\">\n",
       "        \n",
       "  <svg xmlns=\"http://www.w3.org/2000/svg\" height=\"24px\"viewBox=\"0 0 24 24\"\n",
       "       width=\"24px\">\n",
       "    <path d=\"M0 0h24v24H0V0z\" fill=\"none\"/>\n",
       "    <path d=\"M18.56 5.44l.94 2.06.94-2.06 2.06-.94-2.06-.94-.94-2.06-.94 2.06-2.06.94zm-11 1L8.5 8.5l.94-2.06 2.06-.94-2.06-.94L8.5 2.5l-.94 2.06-2.06.94zm10 10l.94 2.06.94-2.06 2.06-.94-2.06-.94-.94-2.06-.94 2.06-2.06.94z\"/><path d=\"M17.41 7.96l-1.37-1.37c-.4-.4-.92-.59-1.43-.59-.52 0-1.04.2-1.43.59L10.3 9.45l-7.72 7.72c-.78.78-.78 2.05 0 2.83L4 21.41c.39.39.9.59 1.41.59.51 0 1.02-.2 1.41-.59l7.78-7.78 2.81-2.81c.8-.78.8-2.07 0-2.86zM5.41 20L4 18.59l7.72-7.72 1.47 1.35L5.41 20z\"/>\n",
       "  </svg>\n",
       "      </button>\n",
       "      \n",
       "  <style>\n",
       "    .colab-df-container {\n",
       "      display:flex;\n",
       "      flex-wrap:wrap;\n",
       "      gap: 12px;\n",
       "    }\n",
       "\n",
       "    .colab-df-convert {\n",
       "      background-color: #E8F0FE;\n",
       "      border: none;\n",
       "      border-radius: 50%;\n",
       "      cursor: pointer;\n",
       "      display: none;\n",
       "      fill: #1967D2;\n",
       "      height: 32px;\n",
       "      padding: 0 0 0 0;\n",
       "      width: 32px;\n",
       "    }\n",
       "\n",
       "    .colab-df-convert:hover {\n",
       "      background-color: #E2EBFA;\n",
       "      box-shadow: 0px 1px 2px rgba(60, 64, 67, 0.3), 0px 1px 3px 1px rgba(60, 64, 67, 0.15);\n",
       "      fill: #174EA6;\n",
       "    }\n",
       "\n",
       "    [theme=dark] .colab-df-convert {\n",
       "      background-color: #3B4455;\n",
       "      fill: #D2E3FC;\n",
       "    }\n",
       "\n",
       "    [theme=dark] .colab-df-convert:hover {\n",
       "      background-color: #434B5C;\n",
       "      box-shadow: 0px 1px 3px 1px rgba(0, 0, 0, 0.15);\n",
       "      filter: drop-shadow(0px 1px 2px rgba(0, 0, 0, 0.3));\n",
       "      fill: #FFFFFF;\n",
       "    }\n",
       "  </style>\n",
       "\n",
       "      <script>\n",
       "        const buttonEl =\n",
       "          document.querySelector('#df-e360a39d-5002-4b0b-af34-9df198493369 button.colab-df-convert');\n",
       "        buttonEl.style.display =\n",
       "          google.colab.kernel.accessAllowed ? 'block' : 'none';\n",
       "\n",
       "        async function convertToInteractive(key) {\n",
       "          const element = document.querySelector('#df-e360a39d-5002-4b0b-af34-9df198493369');\n",
       "          const dataTable =\n",
       "            await google.colab.kernel.invokeFunction('convertToInteractive',\n",
       "                                                     [key], {});\n",
       "          if (!dataTable) return;\n",
       "\n",
       "          const docLinkHtml = 'Like what you see? Visit the ' +\n",
       "            '<a target=\"_blank\" href=https://colab.research.google.com/notebooks/data_table.ipynb>data table notebook</a>'\n",
       "            + ' to learn more about interactive tables.';\n",
       "          element.innerHTML = '';\n",
       "          dataTable['output_type'] = 'display_data';\n",
       "          await google.colab.output.renderOutput(dataTable, element);\n",
       "          const docLink = document.createElement('div');\n",
       "          docLink.innerHTML = docLinkHtml;\n",
       "          element.appendChild(docLink);\n",
       "        }\n",
       "      </script>\n",
       "    </div>\n",
       "  </div>\n",
       "  "
      ],
      "text/plain": [
       "                                              Filename Labels\n",
       "0    /content/drive/MyDrive/Colab Notebooks/image c...    eag\n",
       "1    /content/drive/MyDrive/Colab Notebooks/image c...    eag\n",
       "2    /content/drive/MyDrive/Colab Notebooks/image c...    eag\n",
       "3    /content/drive/MyDrive/Colab Notebooks/image c...    eag\n",
       "4    /content/drive/MyDrive/Colab Notebooks/image c...    eag\n",
       "..                                                 ...    ...\n",
       "322  /content/drive/MyDrive/Colab Notebooks/image c...    cro\n",
       "323  /content/drive/MyDrive/Colab Notebooks/image c...    cro\n",
       "324  /content/drive/MyDrive/Colab Notebooks/image c...    cro\n",
       "325  /content/drive/MyDrive/Colab Notebooks/image c...    cro\n",
       "326  /content/drive/MyDrive/Colab Notebooks/image c...    cro\n",
       "\n",
       "[327 rows x 2 columns]"
      ]
     },
     "execution_count": 17,
     "metadata": {},
     "output_type": "execute_result"
    }
   ],
   "source": [
    "pd.read_csv('/content/drive/MyDrive/Colab Notebooks/image clss/labels.csv')"
   ]
  },
  {
   "cell_type": "code",
   "execution_count": null,
   "metadata": {
    "id": "YJcf5oGx044S"
   },
   "outputs": [],
   "source": []
  }
 ],
 "metadata": {
  "accelerator": "GPU",
  "colab": {
   "gpuType": "T4",
   "provenance": []
  },
  "kernelspec": {
   "display_name": "Python 3 (ipykernel)",
   "language": "python",
   "name": "python3"
  },
  "language_info": {
   "codemirror_mode": {
    "name": "ipython",
    "version": 3
   },
   "file_extension": ".py",
   "mimetype": "text/x-python",
   "name": "python",
   "nbconvert_exporter": "python",
   "pygments_lexer": "ipython3",
   "version": "3.9.13"
  }
 },
 "nbformat": 4,
 "nbformat_minor": 1
}
